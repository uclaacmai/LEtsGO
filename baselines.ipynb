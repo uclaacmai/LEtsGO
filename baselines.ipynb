{
 "cells": [
  {
   "cell_type": "code",
   "execution_count": 7,
   "metadata": {},
   "outputs": [],
   "source": [
    "import sklearn\n",
    "import torch\n",
    "import torchvision\n",
    "from util import LegoDataset\n",
    "import numpy as np\n",
    "from torchvision.transforms import Compose, Resize\n",
    "from matplotlib import pyplot as plt"
   ]
  },
  {
   "cell_type": "code",
   "execution_count": 22,
   "metadata": {},
   "outputs": [],
   "source": [
    "# transforms\n",
    "\n",
    "transform = Resize((48, 48))\n",
    "\n",
    "# load dataset\n",
    "train_dataset = LegoDataset(transform=transform)\n",
    "test_dataset = LegoDataset(test=True, transform=transform)\n",
    "\n",
    "# get data matrix\n",
    "X_train = np.array([l[0].reshape(-1).numpy() for l in train_dataset])\n",
    "y_train = np.array([l[1] for l in train_dataset])\n",
    "\n",
    "X_test = np.array([l[0].reshape(-1).numpy() for l in test_dataset])\n",
    "y_test = np.array([l[1] for l in test_dataset])"
   ]
  },
  {
   "cell_type": "code",
   "execution_count": 26,
   "metadata": {},
   "outputs": [
    {
     "name": "stdout",
     "output_type": "stream",
     "text": [
      "KNN (3) train acc: 0.3767313019390582\n",
      "KNN (3) test acc: 0.07894736842105263\n"
     ]
    }
   ],
   "source": [
    "# K nearest neighbors\n",
    "from sklearn.neighbors import KNeighborsClassifier\n",
    "\n",
    "n_neighbors = 3\n",
    "knn = KNeighborsClassifier(n_neighbors=n_neighbors)\n",
    "knn.fit(X_train, y_train)\n",
    "print(f\"KNN ({n_neighbors}) train acc: {knn.score(X_train, y_train)}\")\n",
    "print(f\"KNN ({n_neighbors}) test acc: {knn.score(X_test, y_test)}\")"
   ]
  },
  {
   "cell_type": "code",
   "execution_count": 27,
   "metadata": {},
   "outputs": [
    {
     "name": "stdout",
     "output_type": "stream",
     "text": [
      "Logistic Regression train acc: 1.0\n",
      "Logistic Regression test acc: 0.11842105263157894\n"
     ]
    },
    {
     "name": "stderr",
     "output_type": "stream",
     "text": [
      "/Library/Frameworks/Python.framework/Versions/3.9/lib/python3.9/site-packages/sklearn/linear_model/_logistic.py:763: ConvergenceWarning: lbfgs failed to converge (status=1):\n",
      "STOP: TOTAL NO. of ITERATIONS REACHED LIMIT.\n",
      "\n",
      "Increase the number of iterations (max_iter) or scale the data as shown in:\n",
      "    https://scikit-learn.org/stable/modules/preprocessing.html\n",
      "Please also refer to the documentation for alternative solver options:\n",
      "    https://scikit-learn.org/stable/modules/linear_model.html#logistic-regression\n",
      "  n_iter_i = _check_optimize_result(\n"
     ]
    }
   ],
   "source": [
    "# Logistic regression\n",
    "from sklearn.linear_model import LogisticRegression\n",
    "\n",
    "lgr = LogisticRegression()\n",
    "\n",
    "lgr.fit(X_train, y_train)\n",
    "\n",
    "print(f\"Logistic Regression train acc: {lgr.score(X_train, y_train)}\")\n",
    "print(f\"Logistic Regression test acc: {lgr.score(X_test, y_test)}\")"
   ]
  },
  {
   "cell_type": "code",
   "execution_count": 28,
   "metadata": {},
   "outputs": [
    {
     "name": "stdout",
     "output_type": "stream",
     "text": [
      "SVM Classifier train acc: 0.7590027700831025\n",
      "SVM Classifier test acc: 0.14473684210526316\n"
     ]
    }
   ],
   "source": [
    "# support vector machine\n",
    "from sklearn.svm import SVC\n",
    "\n",
    "svc = SVC()\n",
    "svc.fit(X_train, y_train)\n",
    "\n",
    "print(f\"SVM Classifier train acc: {svc.score(X_train, y_train)}\")\n",
    "print(f\"SVM Classifier test acc: {svc.score(X_test, y_test)}\")"
   ]
  }
 ],
 "metadata": {
  "kernelspec": {
   "display_name": "Python 3",
   "language": "python",
   "name": "python3"
  },
  "language_info": {
   "codemirror_mode": {
    "name": "ipython",
    "version": 3
   },
   "file_extension": ".py",
   "mimetype": "text/x-python",
   "name": "python",
   "nbconvert_exporter": "python",
   "pygments_lexer": "ipython3",
   "version": "3.9.2"
  }
 },
 "nbformat": 4,
 "nbformat_minor": 4
}
