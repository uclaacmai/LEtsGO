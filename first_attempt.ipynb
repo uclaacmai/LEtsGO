{
 "cells": [
  {
   "cell_type": "code",
   "execution_count": 8,
   "metadata": {},
   "outputs": [],
   "source": [
    "import pandas as pd\n",
    "import os\n",
    "import torch\n",
    "from torch.utils.data import Dataset\n",
    "from torchvision.io import read_image"
   ]
  },
  {
   "cell_type": "code",
   "execution_count": 12,
   "metadata": {},
   "outputs": [],
   "source": [
    "class LegoDataset(Dataset):\n",
    "    \"\"\"Custom dataset class for Lego Minifigure dataset.\"\"\"\n",
    "    \n",
    "    def __init__(self, img_dir, test=False, transform=None, target_transform=None):\n",
    "        \"\"\"init method.\n",
    "        \n",
    "        Keyword arguments:\n",
    "        img_dir -- the path to the root image directory of test and train data\n",
    "        test -- True to load test data (default: False)\n",
    "        transform -- transform to apply to X\n",
    "        target_transform -- transform to apply to y\"\"\"\n",
    "        \n",
    "        self.transform = transform\n",
    "        self.target_transform = target_transform\n",
    "        self.test = test\n",
    "        self.img_dir = os.path.join(img_dir, \"test/\" if test else \"train/\")\n",
    "        self.full_df = None\n",
    "        \n",
    "        # read path names and class names from csv files\n",
    "        meta_df = pd.read_csv(os.path.join(self.img_dir, \"metadata.csv\"))\n",
    "        if self.test:\n",
    "            test_df = pd.read_csv(os.path.join(self.img_dir, \"test.csv\"))\n",
    "            self.full_df = test_df.merge(meta_df, on=\"class_id\")\n",
    "        else:\n",
    "            train_df = pd.read_csv(os.path.join(self.img_dir, \"index.csv\"))\n",
    "            self.full_df = train_df.merge(meta_df, on=\"class_id\")\n",
    "    \n",
    "    def __len__(self):\n",
    "        return len(self.full_df)\n",
    "    \n",
    "    def __getitem__(self, idx):\n",
    "        row = self.full_df.iloc[idx]\n",
    "        image = read_image(os.path.join(self.img_dir, row[\"path\"]))\n",
    "        label = row[\"class_id\"]\n",
    "        if self.transform:\n",
    "            image = self.transform(image)\n",
    "        if self.target_transform:\n",
    "            label = self.target_transform(label)\n",
    "        return image, label\n",
    "    \n",
    "    "
   ]
  },
  {
   "cell_type": "code",
   "execution_count": 13,
   "metadata": {},
   "outputs": [],
   "source": [
    "# load datasets\n",
    "train_dataset = LegoDataset(\"data/\", test=False)\n",
    "test_dataset = LegoDataset(\"data/\", test=True)"
   ]
  },
  {
   "cell_type": "code",
   "execution_count": 18,
   "metadata": {
    "scrolled": true
   },
   "outputs": [
    {
     "data": {
      "text/plain": [
       "torch.Size([3, 512, 512])"
      ]
     },
     "execution_count": 18,
     "metadata": {},
     "output_type": "execute_result"
    }
   ],
   "source": [
    "img, label = train_dataset[0]\n",
    "img.shape"
   ]
  }
 ],
 "metadata": {
  "kernelspec": {
   "display_name": "Python 3",
   "language": "python",
   "name": "python3"
  },
  "language_info": {
   "codemirror_mode": {
    "name": "ipython",
    "version": 3
   },
   "file_extension": ".py",
   "mimetype": "text/x-python",
   "name": "python",
   "nbconvert_exporter": "python",
   "pygments_lexer": "ipython3",
   "version": "3.9.2"
  }
 },
 "nbformat": 4,
 "nbformat_minor": 4
}
